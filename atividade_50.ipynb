{
 "cells": [
  {
   "cell_type": "code",
   "execution_count": 1,
   "metadata": {},
   "outputs": [
    {
     "name": "stdout",
     "output_type": "stream",
     "text": [
      "Vogal 'a': 109 vezes\n",
      "Vogal 'e': 64 vezes\n",
      "Vogal 'i': 33 vezes\n",
      "Vogal 'o': 92 vezes\n",
      "Vogal 'u': 41 vezes\n",
      "Vogal 'á': 0 vezes\n",
      "Vogal 'é': 11 vezes\n",
      "Vogal 'í': 0 vezes\n",
      "Vogal 'ó': 0 vezes\n",
      "Vogal 'ú': 0 vezes\n",
      "Vogal 'â': 0 vezes\n",
      "Vogal 'ê': 4 vezes\n",
      "Vogal 'î': 0 vezes\n",
      "Vogal 'ô': 0 vezes\n",
      "Vogal 'û': 0 vezes\n",
      "Vogal 'à': 0 vezes\n",
      "Vogal 'è': 0 vezes\n",
      "Vogal 'ì': 0 vezes\n",
      "Vogal 'ò': 0 vezes\n",
      "Vogal 'ù': 0 vezes\n",
      "Vogal 'ä': 0 vezes\n",
      "Vogal 'ë': 0 vezes\n",
      "Vogal 'ï': 0 vezes\n",
      "Vogal 'ö': 0 vezes\n",
      "Vogal 'ü': 0 vezes\n",
      "Vogal 'ã': 3 vezes\n",
      "Vogal 'õ': 0 vezes\n"
     ]
    }
   ],
   "source": [
    "\n",
    "nome = 'exagerado_letra.txt'\n",
    "arquivo = open(nome, \"r\", encoding=\"utf-8\")\n",
    "\n",
    "conteudo = arquivo.read()\n",
    "\n",
    "vogais = 'aeiouáéíóúâêîôûàèìòùäëïöüãõ'\n",
    "  \n",
    "contagem = {vogal: 0 for vogal in vogais}\n",
    "    \n",
    "texto = conteudo.lower()\n",
    "\n",
    "for letra in texto:\n",
    "    if letra in vogais:\n",
    "        contagem[letra] += 1\n",
    "\n",
    "for vogal, quantidade in contagem.items():\n",
    "    print(f\"Vogal '{vogal}': {quantidade} vezes\")"
   ]
  }
 ],
 "metadata": {
  "kernelspec": {
   "display_name": "Python 3",
   "language": "python",
   "name": "python3"
  },
  "language_info": {
   "codemirror_mode": {
    "name": "ipython",
    "version": 3
   },
   "file_extension": ".py",
   "mimetype": "text/x-python",
   "name": "python",
   "nbconvert_exporter": "python",
   "pygments_lexer": "ipython3",
   "version": "3.11.9"
  }
 },
 "nbformat": 4,
 "nbformat_minor": 2
}
